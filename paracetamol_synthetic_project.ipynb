{
 "cells": [
  {
   "cell_type": "markdown",
   "id": "fc17afdc-0987-48d9-905d-fe6452509868",
   "metadata": {},
   "source": [
    "# Synthetic Dataset for Paracetamol Reported Incidents in Year 2021\n",
    "## Random Data Based Approach Applied - Updated by EH in August 2025"
   ]
  },
  {
   "cell_type": "markdown",
   "id": "e95de1b3-c09f-446f-ab93-43df1258793e",
   "metadata": {},
   "source": [
    "## Step 1: Adds-on Applicable Libraries "
   ]
  },
  {
   "cell_type": "code",
   "execution_count": 35,
   "id": "9e414484-9a9d-45cf-b1f6-7af4a2e0ea28",
   "metadata": {},
   "outputs": [],
   "source": [
    "import pandas as pd\n",
    "import numpy as np\n",
    "import random\n",
    "from datetime import datetime, timedelta"
   ]
  },
  {
   "cell_type": "markdown",
   "id": "9582a1e8-7eab-4972-aa8c-7e1fd481af97",
   "metadata": {},
   "source": [
    "## Step 2: 11 Variables identified Paracetamol Adverse Reported Incidents in 2021"
   ]
  },
  {
   "cell_type": "code",
   "execution_count": 41,
   "id": "9eb81753-04cb-4e48-b136-7a98924d242a",
   "metadata": {},
   "outputs": [],
   "source": [
    "# Set number of records\n",
    "n = 40000\n",
    "\n",
    "# Create 1000 random 8-digit \"Master IDs\"\n",
    "master_ids = [random.randint(10**7, 10**8 - 1) for _ in range(n)]\n",
    "\n",
    "# Generate 1,000 samples from a normal distribution\n",
    "heights = np.random.normal(loc=170, scale=10, size=n)\n",
    "weights = np.random.normal(loc=70, scale=15, size=n)\n",
    "\n",
    "# Create a correlation between \"height\" and \"weight\"\n",
    "weights += (heights - 170) * 0.5\n",
    "\n",
    "# Round and convert to integers\n",
    "heights = np.round(heights).astype(int)\n",
    "weights = np.round(weights).astype(int)\n",
    "\n",
    "# Add categorical data about \"sex\"\n",
    "genders = np.random.choice(['Male', 'Female'], size=n)\n",
    "\n",
    "# Add categorical data about \"type of report\"\n",
    "typeofreport = np.random.choice(['Spontanous Report', 'Report from Study', 'Other', 'Unknown'], size=n)\n",
    "\n",
    "# Create binary flag (0 or 1) for \"term_highlighted_by_the_reporter\"\n",
    "# 0 = Highlighted by the reporter NOT serious | 1 = Yes highlighted by the reporter SERIOUS\n",
    "term_reporter_flag = np.random.choice([0, 1], size=n)\n",
    "\n",
    "# Create binary flag (0 or 1) for \"results_in_death\"\n",
    "# 0 = No | 1 = Yes\n",
    "death_flag = np.random.choice([0, 1], size=n)\n",
    "\n",
    "# Create binary flag (0 or 1) for \"alert_term\"\n",
    "# 0 = No | 1 = Yes\n",
    "alert_flag = np.random.choice([0, 1], size=n)\n",
    "\n",
    "# Add categorical data about \"CIOMS_grouped\"\n",
    "CIOMS = np.random.choice(['Serious', 'Non-Serious', 'Fatal'], size=n)\n",
    "\n",
    "# Add categorical data about \"patient_age_group\"\n",
    "age_group = np.random.choice(['Newborns', 'Infant', 'Child', 'Adolescent', 'Adult', 'Elderly'], size=n)\n",
    "\n",
    "# Function to generate random date within 2021\n",
    "def random_date_2021():\n",
    "    start_date = datetime(2021, 1, 1)\n",
    "    end_date = datetime(2021, 12, 31)\n",
    "    delta = end_date - start_date\n",
    "    random_days = random.randint(0, delta.days)\n",
    "    return start_date + timedelta(days=random_days)\n",
    "\n",
    "# Generate list of random dates\n",
    "random_dates = [random_date_2021() for _ in range(n)]\n",
    "\n",
    "# df['Random_Date_2021'] = df['Random_Date_2021'].dt.strftime('%Y-%m-%d') - if date is required as strings\n"
   ]
  },
  {
   "cell_type": "markdown",
   "id": "0086ad30-767d-4f54-b87b-ecafd0c9cb3a",
   "metadata": {},
   "source": [
    "## Step 3: Synthetic Dataset Creation"
   ]
  },
  {
   "cell_type": "code",
   "execution_count": null,
   "id": "1c7772df-f328-44c8-b049-181e85ac7d9a",
   "metadata": {
    "scrolled": true
   },
   "outputs": [],
   "source": [
    "# Create DataFrame\n",
    "df = pd.DataFrame({\n",
    "    'first_recieved_date': random_dates,\n",
    "    'master_id': master_ids,\n",
    "    'height_cm': heights,\n",
    "    'weight_kg': weights,\n",
    "    'sex':genders,\n",
    "    'type_of_report': typeofreport,\n",
    "    'term_highlighted_by_reporter_flag': term_reporter_flag,\n",
    "    'results_in_death': death_flag,\n",
    "    'alert_term': alert_flag,\n",
    "    'CIOMS_grouped': CIOMS,\n",
    "    'patient_age_group': age_group,\n",
    "})\n",
    "\n",
    "print(df.head(50))\n",
    "print(df.tail(50))"
   ]
  },
  {
   "cell_type": "markdown",
   "id": "e459f38c-24f7-41ed-b4f8-ebc647652122",
   "metadata": {},
   "source": [
    "## Step 4: Export as a CSV"
   ]
  },
  {
   "cell_type": "code",
   "execution_count": 43,
   "id": "25410952-17e5-40cd-9e79-7ce5c8e62bae",
   "metadata": {},
   "outputs": [],
   "source": [
    "# Export DataFrame to CSV\n",
    "df.to_csv('synthetic_paracetamol_dataset_2021.csv', index=False)"
   ]
  }
 ],
 "metadata": {
  "kernelspec": {
   "display_name": "Python 3 (ipykernel)",
   "language": "python",
   "name": "python3"
  },
  "language_info": {
   "codemirror_mode": {
    "name": "ipython",
    "version": 3
   },
   "file_extension": ".py",
   "mimetype": "text/x-python",
   "name": "python",
   "nbconvert_exporter": "python",
   "pygments_lexer": "ipython3",
   "version": "3.13.5"
  }
 },
 "nbformat": 4,
 "nbformat_minor": 5
}
